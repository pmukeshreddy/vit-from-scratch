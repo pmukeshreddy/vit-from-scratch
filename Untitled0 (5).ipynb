{
  "nbformat": 4,
  "nbformat_minor": 0,
  "metadata": {
    "colab": {
      "provenance": []
    },
    "kernelspec": {
      "name": "python3",
      "display_name": "Python 3"
    },
    "language_info": {
      "name": "python"
    }
  },
  "cells": [
    {
      "cell_type": "code",
      "execution_count": null,
      "metadata": {
        "id": "ZXDPLfr8ju5F"
      },
      "outputs": [],
      "source": [
        "class PatchEmbed(nn.Module):\n",
        "    def __init__(self,img_size,patch_size=16,in_chans=3,embed=768):\n",
        "        super.__init__()\n",
        "        self.img_size = img_size\n",
        "        self.patch_size = 16\n",
        "        self.num_pathces = (img_size//patch_size)**2\n",
        "        self.proj = nn.Conv2d(in_chans,embed,kernel_size=patch_size,stride=patch_size)\n",
        "    def forward(self,x):\n",
        "        x = self.proj(x)\n",
        "        x = x.flatten(2) #\n",
        "        x = x.transpose(1,2) #\n",
        "        return x"
      ]
    },
    {
      "cell_type": "code",
      "source": [
        "class attention(nn.Module):\n",
        "    def __init__(self,dim,num_heads=8,qkv_bias=False,attn_drop=0.,proj_drop=0.):\n",
        "        super.__init__()\n",
        "        self.num_heads = num_heads\n",
        "        head_dim = dim // num_heads\n",
        "        self.scale = head_dim ** -0.5\n",
        "\n",
        "        self.qkv = nn.Linear(dim,dim*3,bias=qkv_bias)\n",
        "        self.att_drop = nn.Dropout(attn_drop)\n",
        "        self.proj = nn.Linear(dim,dim)\n",
        "        self.proj_dropout = proj_drop\n",
        "    def forward(self,x):\n",
        "        B , N , C = x.shape\n",
        "        qkv = self.qkv(x).reshape(B,N,3,self.num_heads,C//self.num_heads).permute(2,0,3,1,4)\n",
        "        q , k ,v = qkv[0],qkv[1],qkv[2]\n",
        "\n",
        "        attn = (q@k.transpose(-2,-1)) * self.scale\n",
        "        attn = attn.softmax(dim=-1)\n",
        "        attn = self.att_drop(attn)\n",
        "\n",
        "        x = (attn@v).transpose(1,2).reshape(B,N,C)\n",
        "        x = self.proj(x)\n",
        "        x = self.proj_dropout(x)\n",
        "\n",
        "        return x\n",
        ""
      ],
      "metadata": {
        "id": "XgFOtDjMj-Ub"
      },
      "execution_count": null,
      "outputs": []
    },
    {
      "cell_type": "code",
      "source": [
        "class transformerblock(nn.Module):\n",
        "    def __init__(self,dim,num_heads,mlp_ratio=4.,qkv_bias=False,drop=0.,attn_droup=0.,act_layer=nn.GELU):\n",
        "        super.__initn__()\n",
        "        self.norm1 = nn.LayerNorm(dim)\n",
        "        self.attn = attention(dim,num_heads,qkv_bias,attn_droup,drop)\n",
        "        self.norm2 = nn.LayerNorm(dim)\n",
        "        mlp_hidden_dim = int(dim*mlp_ratio)\n",
        "        self.mlp = nn.Sequential(\n",
        "        nn.Linear(dim,mlp_hidden_dim),act_layer,nn.Dropout(drop),nn.Linear(mlp_hidden_dim,dim),nn.Dropout(drop))\n",
        "    def forward(self,x):\n",
        "        x = x + self.attn(self.norm1(x))\n",
        "        x = x + self.mlp(self.norm2(x))\n",
        "        return x"
      ],
      "metadata": {
        "id": "im8ndcXTkBSx"
      },
      "execution_count": null,
      "outputs": []
    },
    {
      "cell_type": "code",
      "source": [
        "class visiontransformer(nn.Module):\n",
        "    def __init__(self,img_size=192,patch_size=16,in_channels=3,num_classes=3,embed_dim=768,dept=12,num_heads=12,mlp_ratio=4.,qkv_bias=True,drop_rate=0.,attn_drop_rate=0.):\n",
        "        super().__init__()\n",
        "        self.patch_embed = PatchEmbed(img_size=img_size,patch_size=patch_size,in_chans=in_channels,embed=embed_dim)\n",
        "        num_patches = self.patch_embed.num_pathces\n",
        "        self.cls_token = nn.Parameter(torch.zeros(1,1,embed_dim))\n",
        "        self.pos_embed = nn.Parameter(torch.zeros(1,num_patches+1,embed_dim))\n",
        "        self.pos_drop = nn.Dropout(p=drop_rate)\n",
        "\n",
        "        self.blocks = nn.ModuleList([transformerblock(dim=embed_dim,num_heads=num_heads,mlp_ratio=mlp_ratio,\n",
        "                                                     qkv_bias=qkv_bias,drop=drop_rate,attn_droup=attn_drop_rate) for i in range(dept)])\n",
        "\n",
        "        self.Norm = nn.LayerNorm(embed_dim)\n",
        "        self.head = nn.Linear(embed_dim,num_classes)\n",
        "\n",
        "        nn.init.trunc_normal_(self.pos_embed,std=.02)\n",
        "        nn.init.trunc_normal_(self.cls_token,std=.02)\n",
        "        self.apply(self._init_weights)\n",
        "    def _init_weights(self,m):\n",
        "        if isinstance(m,nn.Linear):\n",
        "            nn.init.trunc_normal_(m.weights,std=.02)\n",
        "            if isinstance(m,nn.Linear) and m.bias is not None:\n",
        "                nn.init.constant_(m.bias,0)\n",
        "        elif isinstance(m,nn.LayerNorm):\n",
        "            nn.init.constant_(m.bias,0)\n",
        "            nn.init.constant_(m.weights,1)\n",
        "    def forward(self,x):\n",
        "\n",
        "        B = x.shape[0]\n",
        "        x = self.patch_embed(x) #output shape will be (batch_size,number of pathces,embeding)\n",
        "\n",
        "\n",
        "        cls_token = self.cls_token.expand(B,-1,-1) # output shape will be (32,1,embeding)\n",
        "        x = torch.cat((cls_token,x),dim=1)  # output shape will be (batch_size,number of pathces+1,embeding)\n",
        "\n",
        "        x = x + self.pos_embed\n",
        "        x = self.pos_drop(x)\n",
        "\n",
        "        for block in self.blocks:\n",
        "            x = block(x)\n",
        "        x = self.Norm(x)\n",
        "        x = x[:,0]\n",
        "        x = self.head(x)\n",
        "        return x\n",
        "\n",
        ""
      ],
      "metadata": {
        "id": "pIE2_YjqkCN6"
      },
      "execution_count": null,
      "outputs": []
    }
  ]
}